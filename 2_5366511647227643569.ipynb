{
 "cells": [
  {
   "cell_type": "markdown",
   "metadata": {},
   "source": [
    "# 1. Метод обратных итераций со сдвигом\n",
    "\n",
    "**Задача**:\n",
    "Дана матрица $A$ и приближение $\\sigma$ к некоторому собственному значению $\\lambda_j$ данной матрицы, такое, что $|\\lambda_j-\\sigma|\\le|\\lambda_i-\\sigma|$ для любого $i\\ne j$. Необходимо найти собственный вектор $\\boldsymbol{x_i}$, соответсвующий $\\lambda_j$.\n",
    "\n",
    "<font size=\"3\">**Лемма:**</font>\n",
    "\n",
    "Если {$\\lambda_i,\\boldsymbol{x_i}$} - собственная пара обратимой матрицы $A$, то {$\\frac{1}{\\lambda_i},\\boldsymbol{x_i}$} собственная пара матрицы $A^{-1}$.\n",
    "\n",
    "Существует **степенной метод**, используемый для поиска максимального по модулю собственного значения $\\lambda_j$ матрицы $A$. Соответственно, первым шагом можно изменить алгоритм степенного метода соответствующим образом:\n",
    "\n",
    "$y^{(k)}=A^{-1}y^{(k-1)}$\n",
    "\n",
    "Вместо поиска обратной матрицы, данное выражение можно свести к СЛАУ вида\n",
    "\n",
    "$Ay^{(k)}=y^{(k-1)}$.\n",
    "\n",
    "Данный метод позволяет итерационно найти **минимальное по модулю** собственное значение матрицы $A$.\n",
    "\n",
    "Далее, рассмотрим процесс обратных итераций для матрицы <font size=\"3\">$A-\\sigma E$</font>:\n",
    "\n",
    "Зададим начальное приближение СВ: $x^{(0)}$ такое, что $||x^{(0)}||=1$\n",
    "\n",
    "На каждой итерации рассчитаем новое приближение по формуле\n",
    "\n",
    "$(A-\\sigma E)y^{(k)}=x^{(k-1)}$\n",
    "\n",
    "$x^{(k)}=y^{(k)}/||y^{(k)}||$\n",
    "\n",
    "К чему будет сходиться такая последовательность $x^{(k)}$?\n",
    "\n",
    "Пусть\n",
    "\n",
    "$y^{(k)}=\\sum_i c_i^{(k)} x_i$\n",
    "\n",
    "$x^{(k-1)}=\\sum_i b_i^{(k-1)} x_i$, \n",
    "\n",
    "где $x_i$ - СВ матрицы $A$.\n",
    "\n",
    "Из уравнения $(A-\\sigma E)y^{(k)}=x^{(k-1)}$ с учетом $Ax_i=\\lambda_i x_i$ после подстановки получим\n",
    "\n",
    "$c_i^{(k)}=b_i^{(k-1)}/(\\lambda_i - \\sigma)$, откуда, с учетом $|\\lambda_j-\\sigma|\\le|\\lambda_i-\\sigma|$, получим, что на каждой итерации будет возрастать вес при собственном векторе $x_j$.\n",
    "\n",
    "Дополнительно можно уточнить собственное значение:\n",
    "\n",
    "$\\lambda_j^{(k)}=\\sigma+\\left\\langle\\frac{x_i^{(k-1)}}{y_i^{(k)}}\\right\\rangle$.\n",
    "\n",
    "Алгоритм:\n",
    "1. Выбрать произвольный вектор $x^{(0)}$, $||x^{(0)}||=1$\n",
    "2. Рассчитать новое приближение СВ $(A-\\sigma E)y^{(k)}=x^{(k-1)}$,   $x^{(k)}=y^{(k)}/||y^{(k)}||$\n",
    "3. Продолжать итерационный процесс, пока выполняется $\\varepsilon \\le ||x^{(k)}-x^{(k-1)}||$, где $\\varepsilon$ - заданная погрешность\n",
    "\n",
    "<font size=\"3\">**Задание:**</font> написать функцию, реализующую метод обратных итераций со сдвигом.\n",
    "\n",
    "<font size=\"3\">**Дополнительно:**</font> уточнить собственное значение."
   ]
  },
  {
   "cell_type": "code",
   "execution_count": null,
   "metadata": {},
   "outputs": [],
   "source": [
    "import numpy as np\n",
    "import scipy.linalg as la\n",
    "np.set_printoptions(precision=2)\n",
    "\n",
    "# construct a symmetric PD matrix\n",
    "rndm = np.random.RandomState(1)\n",
    "a = np.random.uniform(size=(5, 5))\n",
    "A = a.T @ a\n",
    "print(A)"
   ]
  },
  {
   "cell_type": "code",
   "execution_count": null,
   "metadata": {},
   "outputs": [],
   "source": [
    "# eigenvalues and vectors\n",
    "evalues,evectors = np.linalg.eig(A)\n",
    "evectors=evectors.T\n",
    "for val,vect in zip(evalues,evectors):\n",
    "    print(\"Eigenvalue: {:.3f}; Eigenvector: {}\".format(val,vect))"
   ]
  },
  {
   "cell_type": "code",
   "execution_count": null,
   "metadata": {},
   "outputs": [],
   "source": [
    "#write code here\n",
    "def InvIt(A,sigma,x,eps):\n",
    "    print(\"inverse iterations\")\n",
    "#\n",
    "#\n",
    "#"
   ]
  },
  {
   "cell_type": "code",
   "execution_count": null,
   "metadata": {},
   "outputs": [],
   "source": [
    "x0=np.random.randn(5)\n",
    "x0=x0/np.sqrt(x0 @ x0)\n",
    "sigma=0.02 #initial approximation\n",
    "eps=1e-6 #tolerance\n",
    "x, lam, iters=InvIt(A,sigma,x0,eps)\n",
    "\n",
    "lamArg=np.argmin(np.abs(lam-evalues)) #position of computed EValue in exact EValue array\n",
    "mult=evectors[lamArg] @ x #cosine between the computed and exact EVector: 1 or -1\n",
    "x*=mult\n",
    "print(\"Computed eigenvalue: {:.2f}; Computed eigenvector: {}; Iterations: {}\\n\".format(lam,x,iters))\n",
    "evalues,evectors = np.linalg.eig(A)\n",
    "evectors=evectors.T\n",
    "for val,vect in zip(evalues,evectors):\n",
    "    print(\"Eigenvalue: {:.2f}; Eigenvector: {}\".format(val,vect))\n",
    "\n",
    "print(\"\\nL2 difference: {}\".format((x-evectors[lamArg]) @ (x-evectors[lamArg])))"
   ]
  },
  {
   "cell_type": "markdown",
   "metadata": {},
   "source": [
    "<font size=\"3\">**1.1 Потенциально**</font> ускорить сходимость можно, используя **алгоритм с переменным сдвигом**:\n",
    "\n",
    "На каждой итерации рассчитаем новое приближение по формуле\n",
    "\n",
    "$(A-\\lambda_j^{(k-1)} E)y^{(k)}=x^{(k-1)}$\n",
    "\n",
    "$x^{(k)}=y^{(k)}/||y^{(k)}||$\n",
    "\n",
    "где на каждой итерации собственное значение вычисляется по формуле:\n",
    "\n",
    "$\\lambda_j^{(k)}=\\sigma+\\left\\langle\\frac{x_i^{(k-1)}}{y_i^{(k)}}\\right\\rangle$.\n",
    "\n",
    "Алгоритм:\n",
    "1. Выбрать произвольный вектор $x^{(0)}$, $||x^{(0)}||=1$\n",
    "2. Рассчитать новое приближение СВ $(A-\\lambda_j^{(k-1)} E)y^{(k)}=x^{(k-1)}$,   $x^{(k)}=y^{(k)}/||y^{(k)}||$\n",
    "3. Продолжать итерационный процесс, пока выполняется $\\varepsilon \\le ||x^{(k)}-x^{(k-1)}||$, где $\\varepsilon$ - заданная погрешность"
   ]
  },
  {
   "cell_type": "code",
   "execution_count": null,
   "metadata": {},
   "outputs": [],
   "source": [
    "def InvItChange(A,sigma,x,eps):\n",
    "     print(\"inverse iterations\")\n",
    "#\n",
    "#\n",
    "#"
   ]
  },
  {
   "cell_type": "code",
   "execution_count": null,
   "metadata": {},
   "outputs": [],
   "source": [
    "x, lam, iters=InvItChange(A,sigma,x0,eps)\n",
    "\n",
    "evalues,evectors = np.linalg.eig(A)\n",
    "evectors=evectors.T\n",
    "\n",
    "lamArg=np.argmin(np.abs(lam-evalues)) #position of computed EValue in exact EValue array\n",
    "mult=evectors[lamArg] @ x #cosine between the computed and exact EVector: 1 or -1\n",
    "x*=mult\n",
    "print(\"Computed eigenvalue: {:.2f}; Computed eigenvector: {}; Iterations: {}\\n\".format(lam,x,iters))\n",
    "for val,vect in zip(evalues,evectors):\n",
    "    print(\"Eigenvalue: {:.2f}; Eigenvector: {}\".format(val,vect))\n",
    "\n",
    "print(\"\\nL2 difference: {}\".format((x-evectors[lamArg]) @ (x-evectors[lamArg])))"
   ]
  },
  {
   "cell_type": "code",
   "execution_count": null,
   "metadata": {},
   "outputs": [],
   "source": []
  },
  {
   "cell_type": "markdown",
   "metadata": {},
   "source": [
    "# 2. QR итерации для симметричной матрицы\n",
    "\n",
    "**Задача**:\n",
    "Дана симметричная матрица $A$. Необходимо найти спектр данной матрицы (т.е. все $\\lambda_j$) и ее собственные векторы.\n",
    "\n",
    "**Идея метода**\n",
    "\n",
    "Используем QR разложение матрицы $A=QR$ и построим матрицу $A_1=RQ$. \n",
    "\n",
    "Учтем, что $R=Q^{-1}A=Q^TA$, тогда $A_1=Q^{-1}AQ$, т.е. матрицы $A$ и $A^{-1}$ подобны, и их спектры совпадают.\n",
    "\n",
    "На втором шаге:\n",
    "\n",
    "$A_2=Q^{(1)^T}Q^{(0)^T}AQ^{(0)}Q^{(1)}$ и тд.\n",
    "\n",
    "На k-ом шаге получим $A^{(k)}=Q^{(k-1)^T}Q^{(k-2)^T}...Q^{(0)^T}AQ^{(0)}...Q^{(k-2)}Q^{(k-1)}=X^TAX$, где матрица $A^{(k)}$ близка к диагональной (именно для симметричной матрицы), а матрица перехода $X$ состоит из собственных векторов исходной матрицы $A$.\n",
    "\n",
    "**Лемма:**\n",
    "\n",
    "Если матрица $A$ не имеет равных по модулю собственных значений, данный итерационный процесс в пределе переводит исходную матрицу $A$ в матрицу правой треугольной формы $A_{\\infty}$, на диагонали которой расположены собственные значения матрицы $A$. Если $A$ - симметричная, то $A_{\\infty}$ - диагональная.\n",
    "\n",
    "\n",
    "Алгоритм метода:\n",
    "\n",
    "На каждом шаге к матрице $A^{(k-1)}$, где $A^{0}=A$ применяем QR разложение:\n",
    "\n",
    "$A^{(k-1)}=Q^{(k-1)}R^{(k-1)}$\n",
    "\n",
    "и строим новую матрицу $A^{(k)}=R^{(k-1)}Q^{(k-1)}$.\n",
    "\n",
    "Повторяем $N$ раз и получаем почти диагональную матрицу $A^N$, на диагонали которой стоят СЗ матрицы $A$ и ортогональную матрицу $X=Q^{(0)}...Q^{(k-2)}Q^{(k-1)}$, составленную из собственных векторов матрицы $A$.\n",
    "\n",
    "<font size=\"3\">**Задание:**</font> написать функцию, реализующую QR метод. Приближенно найти спектр матрицы и собственные векторы (**дополнительно**)."
   ]
  },
  {
   "cell_type": "code",
   "execution_count": null,
   "metadata": {},
   "outputs": [],
   "source": [
    "# QR iteration\n",
    "def qr_iterate(A, n):"
   ]
  },
  {
   "cell_type": "code",
   "execution_count": null,
   "metadata": {},
   "outputs": [],
   "source": [
    "# do the QR iteration, vary the number of steps, check the form of the result\n",
    "A1, X = qr_iterate(A, 10)"
   ]
  },
  {
   "cell_type": "code",
   "execution_count": null,
   "metadata": {},
   "outputs": [],
   "source": [
    "np.set_printoptions(suppress=True, linewidth=100)\n",
    "A1"
   ]
  },
  {
   "cell_type": "code",
   "execution_count": null,
   "metadata": {},
   "outputs": [],
   "source": [
    "# 1. Compare the diagonal of A1 with eigenvalues of A\n",
    "# study the convergence of the diag elements with the number of iterations\n",
    "\n",
    "for val,vect in zip(np.diag(A1),X):\n",
    "    print(\"Computed eigenvalue: {:.2f}; Computed eigenvector: {}\".format(val,vect))\n",
    "\n",
    "print(\"\\n\")\n",
    "for val,vect in zip(evalues,evectors):\n",
    "    print(\"Eigenvalue: {:.2f}; Eigenvector: {}\".format(val,vect))\n",
    "\n",
    "print(\"\\nL2 difference: {}\".format((x-evectors[lamArg]) @ (x-evectors[lamArg])))"
   ]
  },
  {
   "cell_type": "code",
   "execution_count": null,
   "metadata": {},
   "outputs": [],
   "source": [
    "# 2. study the convergence of elements below the main diagonal\n",
    "for n in range(1,10):\n",
    "    A1, X = qr_iterate(A, n)\n",
    "    print(\"{} iterations: \\n {}\\n\".format(n,A1))"
   ]
  },
  {
   "cell_type": "markdown",
   "metadata": {},
   "source": [
    "# 3. QR итерации в общем случае несимметричной матрицы"
   ]
  },
  {
   "cell_type": "code",
   "execution_count": null,
   "metadata": {},
   "outputs": [],
   "source": [
    "# Take the original matrix A, do the QR iteration"
   ]
  },
  {
   "cell_type": "code",
   "execution_count": null,
   "metadata": {},
   "outputs": [],
   "source": [
    "# vary the number of steps, start with ten or so ; note that it converges to a *real* Schur form, with 2x2 blocks\n",
    "A_ns = np.random.uniform(size=(5, 5))\n",
    "A2, X2 = qr_iterate(A_ns, 150)\n",
    "evalues2,evectors2 = np.linalg.eig(A_ns)\n",
    "evectors2=evectors2.T\n",
    "A2"
   ]
  },
  {
   "cell_type": "code",
   "execution_count": null,
   "metadata": {},
   "outputs": [],
   "source": [
    "# check the eigenvalues: note the complex conjugate pairs; \n",
    "# note that the real ones agree with the diagonal of the results of the QR iteration\n",
    "for val,vect in zip(np.diag(A2),X2):\n",
    "    print(\"Computed eigenvalue: {:.2f}; Computed eigenvector: {}\".format(val,vect))\n",
    "\n",
    "print(\"\\n\")\n",
    "for val,vect in zip(evalues2,evectors2):\n",
    "    print(\"Eigenvalue: {:.2f}; Eigenvector: {}\".format(val,vect))"
   ]
  },
  {
   "cell_type": "code",
   "execution_count": null,
   "metadata": {},
   "outputs": [],
   "source": [
    "# Note a 2x2 block, check its eigenvalues\n",
    "block = A2[3:, 3:]\n",
    "block"
   ]
  },
  {
   "cell_type": "code",
   "execution_count": null,
   "metadata": {},
   "outputs": [],
   "source": [
    "# Eigenvalues of the block agree with complex conj eigvals of A\n",
    "np.linalg.eigvals(block)"
   ]
  },
  {
   "cell_type": "markdown",
   "metadata": {},
   "source": [
    "# 4. ДЗ\n",
    "\n",
    "Each student gets their own random seed: make it e.g. equal to their student ID number\n",
    "\n",
    "repeat the analysis, select 2x2 blocks, compare to the \"ground truth\" eigenvalues"
   ]
  },
  {
   "cell_type": "code",
   "execution_count": null,
   "metadata": {},
   "outputs": [],
   "source": []
  }
 ],
 "metadata": {
  "kernelspec": {
   "display_name": "Python 3",
   "language": "python",
   "name": "python3"
  },
  "language_info": {
   "codemirror_mode": {
    "name": "ipython",
    "version": 3
   },
   "file_extension": ".py",
   "mimetype": "text/x-python",
   "name": "python",
   "nbconvert_exporter": "python",
   "pygments_lexer": "ipython3",
   "version": "3.7.1"
  }
 },
 "nbformat": 4,
 "nbformat_minor": 2
}
