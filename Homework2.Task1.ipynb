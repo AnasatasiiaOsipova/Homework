{
 "cells": [
  {
   "cell_type": "markdown",
   "metadata": {},
   "source": [
    "## Задание1\n",
    " Дан словарь, в котором ключами являются имена студентов, а значениями их оценки. По данному словарю, составить новый словарь, в котором ключами являются оценки, а значениями списки студентов, которые получили данную оценку.\n"
   ]
  },
  {
   "cell_type": "code",
   "execution_count": 33,
   "metadata": {},
   "outputs": [
    {
     "name": "stdout",
     "output_type": "stream",
     "text": [
      "{10: ['Petrov ', 'Smirnov'], 9: ['Loginov'], 0: ['Vasilev'], 7: ['Sidorov'], 6: ['Ivanov']}\n"
     ]
    }
   ],
   "source": [
    " students = { 'Petrov ': 10, 'Smirnov': 10, 'Loginov': 9,\n",
    "'Vasilev': 0, 'Sidorov' : 7, 'Ivanov' : 6}\n",
    "otsenki = {}\n",
    "\n",
    "for x in students.keys():\n",
    "    if otsenki.get(students[x])== None:\n",
    "        otsenki[students[x]] = [x]\n",
    "    else:\n",
    "        otsenki[students[x]].append(x)\n",
    "print(otsenki)\n",
    "        \n",
    "        "
   ]
  }
 ],
 "metadata": {
  "kernelspec": {
   "display_name": "Python 3",
   "language": "python",
   "name": "python3"
  },
  "language_info": {
   "codemirror_mode": {
    "name": "ipython",
    "version": 3
   },
   "file_extension": ".py",
   "mimetype": "text/x-python",
   "name": "python",
   "nbconvert_exporter": "python",
   "pygments_lexer": "ipython3",
   "version": "3.7.1"
  }
 },
 "nbformat": 4,
 "nbformat_minor": 2
}
