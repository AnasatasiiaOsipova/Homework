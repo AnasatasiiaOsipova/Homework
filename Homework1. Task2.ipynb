{
 "cells": [
  {
   "cell_type": "markdown",
   "metadata": {},
   "source": [
    "# Solve a quadratic equation, $ x^2 + bx + c. $"
   ]
  },
  {
   "cell_type": "code",
   "execution_count": 23,
   "metadata": {},
   "outputs": [],
   "source": [
    "import math\n",
    "def solve_quad(b, c):\n",
    "    \n",
    "    D = b ** 2 - 4 * c \n",
    "    if abs(b)>10**6:\n",
    "        x1 = c/b; x2=b\n",
    "        return (x1,x2)\n",
    "    if D > 0: \n",
    "         \n",
    "\n",
    "        x1 = (-b + math.sqrt(D)) / 2 \n",
    "        x2 = (-b - math.sqrt(D)) / 2 \n",
    "    elif D == 0: \n",
    "        x1 = x2 = -b / 2 \n",
    "    else: \n",
    "        \n",
    "        x1 = complex(-b, math.sqrt(abs(D)))/2 \n",
    "        x2 = complex(-b, -math.sqrt(abs(D)))/2 \n",
    "\n",
    "\n",
    "    return (x1,x2)"
   ]
  },
  {
   "cell_type": "markdown",
   "metadata": {},
   "source": [
    "Test the function"
   ]
  },
  {
   "cell_type": "code",
   "execution_count": 24,
   "metadata": {},
   "outputs": [],
   "source": [
    "from numpy import allclose"
   ]
  },
  {
   "cell_type": "code",
   "execution_count": 25,
   "metadata": {},
   "outputs": [],
   "source": [
    "variants = [{ 'b': 4.0, 'c': 3.0},\n",
    "            { 'b': 2.0, 'c': 1.0},\n",
    "            { 'b': 0.5, 'c': 4.0},\n",
    "            { 'b': 1e10, 'c': 3.0},\n",
    "            { 'b': -1e10, 'c': 4.0},]"
   ]
  },
  {
   "cell_type": "code",
   "execution_count": 26,
   "metadata": {},
   "outputs": [
    {
     "name": "stdout",
     "output_type": "stream",
     "text": [
      "True\n",
      "True\n",
      "True\n",
      "True\n",
      "True\n"
     ]
    }
   ],
   "source": [
    "for var in variants:\n",
    "    x1, x2 = solve_quad(**var)\n",
    "    print(allclose(x1*x2, var['c']))"
   ]
  },
  {
   "cell_type": "code",
   "execution_count": 27,
   "metadata": {},
   "outputs": [],
   "source": [
    "import math\n",
    "def solve_quad(b, c):\n",
    "    \n",
    "    D = b ** 2 - 4 * c \n",
    "    if abs(b)>10**6:\n",
    "        x1 = c/b; x2=b\n",
    "        return (x1,x2)\n",
    "    if D > 0: \n",
    "         \n",
    "\n",
    "        x1 = (-b + math.sqrt(D)) / 2 \n",
    "        x2 = (-b - math.sqrt(D)) / 2 \n",
    "    elif D == 0: \n",
    "        x1 = x2 = -b / 2 \n",
    "    else: \n",
    "        \n",
    "        x1 = complex(-b, math.sqrt(abs(D)))/2 \n",
    "        x2 = complex(-b, -math.sqrt(abs(D)))/2 \n",
    "\n",
    "\n",
    "    return (x1,x2)"
   ]
  },
  {
   "cell_type": "code",
   "execution_count": 28,
   "metadata": {},
   "outputs": [],
   "source": [
    "from numpy import allclose"
   ]
  },
  {
   "cell_type": "code",
   "execution_count": 29,
   "metadata": {},
   "outputs": [],
   "source": [
    "variants = [{ 'b': 4.0, 'c': 3.0},\n",
    "            { 'b': 2.0, 'c': 1.0},\n",
    "            { 'b': 0.5, 'c': 4.0},\n",
    "            { 'b': 1e10, 'c': 3.0},\n",
    "            { 'b': -1e10, 'c': 4.0},]"
   ]
  },
  {
   "cell_type": "code",
   "execution_count": 30,
   "metadata": {},
   "outputs": [
    {
     "name": "stdout",
     "output_type": "stream",
     "text": [
      "True\n",
      "True\n",
      "True\n",
      "True\n",
      "True\n"
     ]
    }
   ],
   "source": [
    "for var in variants:\n",
    "    x1, x2 = solve_quad(**var)\n",
    "    print(allclose(x1*x2, var['c']))"
   ]
  }
 ],
 "metadata": {
  "kernelspec": {
   "display_name": "Python 3",
   "language": "python",
   "name": "python3"
  },
  "language_info": {
   "codemirror_mode": {
    "name": "ipython",
    "version": 3
   },
   "file_extension": ".py",
   "mimetype": "text/x-python",
   "name": "python",
   "nbconvert_exporter": "python",
   "pygments_lexer": "ipython3",
   "version": "3.7.1"
  }
 },
 "nbformat": 4,
 "nbformat_minor": 2
}
