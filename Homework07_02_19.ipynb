{
 "cells": [
  {
   "cell_type": "markdown",
   "metadata": {},
   "source": [
    "# Домашнее задание к 07.02.2019\n",
    "## Многочлен Лагранжа"
   ]
  },
  {
   "cell_type": "code",
   "execution_count": 22,
   "metadata": {},
   "outputs": [],
   "source": [
    "def lgrn_k(x, k, Xk):\n",
    "    lst = []\n",
    "    pr = 1\n",
    "    for i in range (len(Xk)) :\n",
    "        if i != k:\n",
    "            lst.append ((x - Xk[i])/ (Xk[k]-Xk[i]))\n",
    "    for j in range(len(Xk) -1 ):\n",
    "        pr=  pr * lst[j]\n",
    "    \n",
    "    return (pr)\n",
    "    "
   ]
  },
  {
   "cell_type": "code",
   "execution_count": 23,
   "metadata": {},
   "outputs": [],
   "source": [
    "def lgrn(Xnew, Xs, Ys):\n",
    "    return sum (Ys[n]*lgrn_k(Xnew, n, Xs) for n in range(len(Xs))) \n"
   ]
  },
  {
   "cell_type": "code",
   "execution_count": 30,
   "metadata": {},
   "outputs": [
    {
     "name": "stdout",
     "output_type": "stream",
     "text": [
      "0.03918504530115375\n"
     ]
    }
   ],
   "source": [
    "primer = [1, 2, 3, 4, 5]\n",
    "znacheniia = [0.5 , 0.2, 0.1, 0.0588235294, 0.0384615385]\n",
    "print(lgrn(5.1, primer, znacheniia))"
   ]
  }
 ],
 "metadata": {
  "kernelspec": {
   "display_name": "Python 3",
   "language": "python",
   "name": "python3"
  },
  "language_info": {
   "codemirror_mode": {
    "name": "ipython",
    "version": 3
   },
   "file_extension": ".py",
   "mimetype": "text/x-python",
   "name": "python",
   "nbconvert_exporter": "python",
   "pygments_lexer": "ipython3",
   "version": "3.7.1"
  }
 },
 "nbformat": 4,
 "nbformat_minor": 2
}
