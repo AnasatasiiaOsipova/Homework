{
 "cells": [
  {
   "cell_type": "markdown",
   "metadata": {},
   "source": [
    "## Задание2\n",
    "Дана строка, представляющая собой целое положительное число, записанное римскими цифрами. Написать функцию, возвращающую десятичное представление данного числа арабскими цифрами. "
   ]
  },
  {
   "cell_type": "code",
   "execution_count": 2,
   "metadata": {},
   "outputs": [
    {
     "data": {
      "text/plain": [
       "1999"
      ]
     },
     "execution_count": 2,
     "metadata": {},
     "output_type": "execute_result"
    }
   ],
   "source": [
    "def roman_to_arabic(roman):\n",
    "    znacheniia = {\"I\":1,\"V\":5,\"X\":10,\"L\":50,\"C\":100,\"D\":500,\"M\":1000}\n",
    "    arabic = 0\n",
    "    for x in range(len(roman)):\n",
    "        try:\n",
    "            if znacheniia[roman[x]]<znacheniia[roman[x+1]]:\n",
    "                arabic-=znacheniia[roman[x]]\n",
    "            else:\n",
    "                arabic+=znacheniia[roman[x]]\n",
    "        except IndexError:\n",
    "            arabic+=znacheniia[roman[x]]\n",
    "    return arabic\n",
    "roman_to_arabic('MCMXCIX')\n"
   ]
  }
 ],
 "metadata": {
  "kernelspec": {
   "display_name": "Python 3",
   "language": "python",
   "name": "python3"
  },
  "language_info": {
   "codemirror_mode": {
    "name": "ipython",
    "version": 3
   },
   "file_extension": ".py",
   "mimetype": "text/x-python",
   "name": "python",
   "nbconvert_exporter": "python",
   "pygments_lexer": "ipython3",
   "version": "3.7.1"
  }
 },
 "nbformat": 4,
 "nbformat_minor": 2
}
