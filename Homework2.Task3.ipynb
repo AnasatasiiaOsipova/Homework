{
 "cells": [
  {
   "cell_type": "markdown",
   "metadata": {},
   "source": [
    "## Задание3\n",
    "По целому положительному числу, записанному арабскими цифрами, получить его представление римскими цифрами. "
   ]
  },
  {
   "cell_type": "code",
   "execution_count": 60,
   "metadata": {
    "scrolled": true
   },
   "outputs": [
    {
     "data": {
      "text/plain": [
       "'VII'"
      ]
     },
     "execution_count": 60,
     "metadata": {},
     "output_type": "execute_result"
    }
   ],
   "source": [
    "perevod = {1000 :\"M\" ,900 :\"CM\" ,500 :\"D\" ,400 :\"CD\" ,100 :\"C\" ,90 : \"XC\",50 :\"L\" ,40 :\"XL\" ,10 : \"X\" ,9 :\"IX\" ,\n",
    "           5 :\"V\" ,4 :\"IV\" ,1 : \"I\" }\n",
    " \n",
    "def arabic_to_rome(num):\n",
    "    if num <= 0 or  int(num) != num:\n",
    "        print ('Введите положительное целое число')\n",
    "    else: \n",
    "        result = []\n",
    "        for x in perevod.keys():\n",
    "            while num >= x:\n",
    "                result.append(perevod[x])\n",
    "                num -= x\n",
    "    return ''.join(result)\n",
    "arabic_to_rome(7)"
   ]
  }
 ],
 "metadata": {
  "kernelspec": {
   "display_name": "Python 3",
   "language": "python",
   "name": "python3"
  },
  "language_info": {
   "codemirror_mode": {
    "name": "ipython",
    "version": 3
   },
   "file_extension": ".py",
   "mimetype": "text/x-python",
   "name": "python",
   "nbconvert_exporter": "python",
   "pygments_lexer": "ipython3",
   "version": "3.7.1"
  }
 },
 "nbformat": 4,
 "nbformat_minor": 2
}
