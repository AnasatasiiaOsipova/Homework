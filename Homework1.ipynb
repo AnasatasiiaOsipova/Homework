{
 "cells": [
  {
   "cell_type": "markdown",
   "metadata": {},
   "source": [
    "# Задача 1"
   ]
  },
  {
   "cell_type": "markdown",
   "metadata": {},
   "source": [
    "Найти сумму положительных целых чисел, не превышающих N=1000, которые делятся на 3 или на 5."
   ]
  },
  {
   "cell_type": "code",
   "execution_count": null,
   "metadata": {},
   "outputs": [],
   "source": [
    "s=0\n",
    "for x in range(0,1001):\n",
    "    if x%3==0 or x%5==0:\n",
    "        s = s + x\n",
    "print(s)"
   ]
  },
  {
   "cell_type": "markdown",
   "metadata": {},
   "source": [
    "Тест на маленьком числе"
   ]
  },
  {
   "cell_type": "code",
   "execution_count": 5,
   "metadata": {},
   "outputs": [
    {
     "name": "stdout",
     "output_type": "stream",
     "text": [
      "8\n"
     ]
    }
   ],
   "source": [
    "s=0\n",
    "for x in range(0,6):\n",
    "    if x%3==0 or x%5==0:\n",
    "        s = s + x\n",
    "print(s)"
   ]
  },
  {
   "cell_type": "markdown",
   "metadata": {},
   "source": [
    "Действительно, из чисел 1, 2, 3, 4 и 5 на 3 или 5 делятся только 3 и 5. 3 + 5 = 8. Верно."
   ]
  },
  {
   "cell_type": "markdown",
   "metadata": {},
   "source": [
    "# Solve a quadratic equation, $ x^2 + bx + c. $"
   ]
  },
  {
   "cell_type": "code",
   "execution_count": null,
   "metadata": {},
   "outputs": [],
   "source": [
    "import math\n",
    "def solve_quad(b, c):\n",
    "    \n",
    "    D = b ** 2 - 4 * c \n",
    "\n",
    "    if D > 0: \n",
    "         \n",
    "\n",
    "        x1 = (-b + math.sqrt(D)) / 2 \n",
    "        x2 = (-b - math.sqrt(D)) / 2 \n",
    "    elif D == 0: \n",
    "        x1 = x2 = -b / 2 \n",
    "    else: \n",
    "        \n",
    "        x1 = complex(-b, math.sqrt(abs(D)))/2 \n",
    "        x2 = complex(-b, -math.sqrt(abs(D)))/2 \n",
    "\n",
    "\n",
    "    return (x1,x2)"
   ]
  },
  {
   "cell_type": "markdown",
   "metadata": {},
   "source": [
    "Test the function"
   ]
  },
  {
   "cell_type": "code",
   "execution_count": null,
   "metadata": {},
   "outputs": [],
   "source": [
    "from numpy import allclose"
   ]
  },
  {
   "cell_type": "code",
   "execution_count": null,
   "metadata": {},
   "outputs": [],
   "source": [
    "variants = [{ 'b': 4.0, 'c': 3.0},\n",
    "            { 'b': 2.0, 'c': 1.0},\n",
    "            { 'b': 0.5, 'c': 4.0},\n",
    "            { 'b': 1e10, 'c': 3.0},\n",
    "            { 'b': -1e10, 'c': 4.0},]"
   ]
  },
  {
   "cell_type": "code",
   "execution_count": null,
   "metadata": {},
   "outputs": [],
   "source": [
    "for var in variants:\n",
    "    x1, x2 = solve_quad(**var)\n",
    "    print(allclose(x1*x2, var['c']))"
   ]
  }
 ],
 "metadata": {
  "kernelspec": {
   "display_name": "Python 3",
   "language": "python",
   "name": "python3"
  },
  "language_info": {
   "codemirror_mode": {
    "name": "ipython",
    "version": 3
   },
   "file_extension": ".py",
   "mimetype": "text/x-python",
   "name": "python",
   "nbconvert_exporter": "python",
   "pygments_lexer": "ipython3",
   "version": "3.7.1"
  }
 },
 "nbformat": 4,
 "nbformat_minor": 2
}
